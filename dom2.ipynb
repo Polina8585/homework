{
 "cells": [
  {
   "cell_type": "code",
   "execution_count": 2,
   "metadata": {},
   "outputs": [
    {
     "name": "stdout",
     "output_type": "stream",
     "text": [
      "Фраза 2 длиннее фразы 1\n"
     ]
    }
   ],
   "source": [
    "# Задание 1\n",
    "phrase_1 = 'Насколько проще было бы писать программы, еслт бы не заказчики'\n",
    "phrase_2 = '640кб должно хватить для любых задач. Билл Гейтс (по легенде)'\n",
    "if (\"phrase_1\" > \"phrase_2\"):\n",
    "    print ('Фраза 1 длиннее фразы 2')\n",
    "elif (\"phrase_1\" < \"phrase_2\"):\n",
    "    print ('Фраза 2 длиннее фразы 1')\n",
    "else:\n",
    "    print ('Фразы равной длины')\n",
    "   "
   ]
  },
  {
   "cell_type": "code",
   "execution_count": 4,
   "metadata": {},
   "outputs": [
    {
     "name": "stdout",
     "output_type": "stream",
     "text": [
      "Високосный год\n"
     ]
    }
   ],
   "source": [
    "# Задание 2\n",
    "year = 2024\n",
    "if year%4==0:\n",
    "    print ('Високосный год')\n",
    "else:\n",
    "    print ('Обычный год')"
   ]
  },
  {
   "cell_type": "code",
   "execution_count": null,
   "metadata": {},
   "outputs": [],
   "source": [
    "# Задание 3\n",
    "a=int(input('Введите день'))\n",
    "b=int(input('Введите месяц'))\n",
    "\n",
    "\n",
    "\n",
    "    "
   ]
  },
  {
   "cell_type": "code",
   "execution_count": 8,
   "metadata": {},
   "outputs": [
    {
     "name": "stdout",
     "output_type": "stream",
     "text": [
      "\"Упаковка для лыж\"\n"
     ]
    }
   ],
   "source": [
    "# Задание 4\n",
    "width= 10 # ширина товара в см\n",
    "length=205 # длина товара в см\n",
    "height=8 # высота товара в см\n",
    "if width<15 and length<15 and height<15:\n",
    "    print ('\"Коробка №1\"')\n",
    "elif 15<width<50 or 15<length<50 or 15<height<50:\n",
    "    print ('\"Коробка №2\"')\n",
    "elif length>200:\n",
    "    print('\"Упаковка для лыж\"')\n",
    "else:\n",
    "    print('\"Стандартная коробка №3\"')"
   ]
  },
  {
   "cell_type": "code",
   "execution_count": 41,
   "metadata": {},
   "outputs": [
    {
     "name": "stdout",
     "output_type": "stream",
     "text": [
      "Несчастливый билет\n"
     ]
    }
   ],
   "source": [
    "# Задание 5\n",
    "number=abcdef\n",
    "a=1\n",
    "b=2\n",
    "c=3\n",
    "d=1\n",
    "e=2\n",
    "f=5\n",
    "if a+b+c==d+e+f:\n",
    "    print('Счастливый билет')\n",
    "else:\n",
    "    print('Несчастливый билет')"
   ]
  },
  {
   "cell_type": "code",
   "execution_count": null,
   "metadata": {},
   "outputs": [],
   "source": [
    "user_input=int(input('Введите тип фигуры'))\n",
    "if user_input='Круг':\n",
    "    user_input=int(input('Введите радиус круга'))\n",
    "    'Площадь круга'=3.14*'радиус круга'\n",
    "    print('Площадь круга')\n",
    "    "
   ]
  }
 ],
 "metadata": {
  "kernelspec": {
   "display_name": "Python 3",
   "language": "python",
   "name": "python3"
  },
  "language_info": {
   "codemirror_mode": {
    "name": "ipython",
    "version": 3
   },
   "file_extension": ".py",
   "mimetype": "text/x-python",
   "name": "python",
   "nbconvert_exporter": "python",
   "pygments_lexer": "ipython3",
   "version": "3.8.5"
  }
 },
 "nbformat": 4,
 "nbformat_minor": 4
}
